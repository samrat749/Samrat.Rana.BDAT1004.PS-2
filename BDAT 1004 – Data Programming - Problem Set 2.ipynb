{
 "cells": [
  {
   "cell_type": "markdown",
   "id": "174be136",
   "metadata": {},
   "source": [
    "# Question 1\n",
    "## What value is displayed when the last expression (a) is evaluated? Explain your\n",
    "## answer by indicating what happens in every executed statement."
   ]
  },
  {
   "cell_type": "code",
   "execution_count": 60,
   "id": "a5abe4e1",
   "metadata": {},
   "outputs": [
    {
     "data": {
      "text/plain": [
       "6"
      ]
     },
     "execution_count": 60,
     "metadata": {},
     "output_type": "execute_result"
    }
   ],
   "source": [
    "a = 0            \n",
    "def b():         \n",
    " global a      \n",
    " a = c(a)      \n",
    "def c(a):          \n",
    " return a + 2     \n",
    "b()\n",
    "b()\n",
    "b()\n",
    "a"
   ]
  },
  {
   "cell_type": "markdown",
   "id": "e0db03e7",
   "metadata": {},
   "source": [
    "#### everytime we call function b() it returns the value a+2\n",
    "#### so upon caling b for three times and then returning a will print 6\n",
    "#### (b() does not return anything)"
   ]
  },
  {
   "cell_type": "markdown",
   "id": "c0b36766",
   "metadata": {},
   "source": [
    "# Question 2\n",
    "## If the file cannot be found by the interpreter or if it cannot be readas a text file, an exception will be raised. Modify function fileLength() so that a friendly message is printed instead:"
   ]
  },
  {
   "cell_type": "code",
   "execution_count": 57,
   "id": "c80016a8",
   "metadata": {},
   "outputs": [],
   "source": [
    "def file_length(infile):\n",
    "    \n",
    "    try:                          \n",
    "        infile = open(infile)\n",
    "        contents = infile.read()\n",
    "        infile.close()\n",
    "        print(len(contents))\n",
    "    \n",
    "    except:                       \n",
    "        print('File {} not found.'.format(infile))"
   ]
  },
  {
   "cell_type": "code",
   "execution_count": 58,
   "id": "7c1548e8",
   "metadata": {},
   "outputs": [
    {
     "name": "stdout",
     "output_type": "stream",
     "text": [
      "123\n"
     ]
    }
   ],
   "source": [
    "file_length('Filelength.txt')"
   ]
  },
  {
   "cell_type": "code",
   "execution_count": 59,
   "id": "09c25d1c",
   "metadata": {},
   "outputs": [
    {
     "name": "stdout",
     "output_type": "stream",
     "text": [
      "File Filelngth.txt not found.\n"
     ]
    }
   ],
   "source": [
    "file_length('Filelngth.txt')"
   ]
  },
  {
   "cell_type": "markdown",
   "id": "7a5d4c10",
   "metadata": {},
   "source": [
    "# Question 3\n",
    "## Write a class named Marsupial that can be used as shown below:\n",
    "## >>> m = Marsupial()\n",
    "## >>> m.put_in_pouch('doll')\n",
    "## >>> m.put_in_pouch('firetruck')\n",
    "## >>> m.put_in_pouch('kitten')\n",
    "## >>> m.pouch_contents()\n",
    "## ['doll', 'firetruck', 'kitten']"
   ]
  },
  {
   "cell_type": "code",
   "execution_count": 49,
   "id": "de3314b2",
   "metadata": {},
   "outputs": [],
   "source": [
    "class Marsupial:          \n",
    "    def __init__(self,a,b):             \n",
    "        self.pouch=[]                        \n",
    "    def put_in_pouch(self,items): \n",
    "        self.pouch.append(items)   \n",
    "    def pouch_contents(self):          \n",
    "        return self.pouch\n",
    "\n",
    "class Kangaroo(Marsupial):              \n",
    "    def __init__(self,a,b):              \n",
    "        super().__init__(a,b)          \n",
    "        self.dx = 0                      \n",
    "        self.dy = 0                        \n",
    "    def jump(self,a,b):                 \n",
    "        self.dx = self.dx + a                \n",
    "        self.dy = self.dy + b\n",
    "    def __str__(self):                                                      \n",
    "        return ('I am a Kangaroo located at coordinates({},{})'.format(self.dx,self.dy))"
   ]
  },
  {
   "cell_type": "code",
   "execution_count": 50,
   "id": "04e4be55",
   "metadata": {},
   "outputs": [],
   "source": [
    " k = Kangaroo(0,0)"
   ]
  },
  {
   "cell_type": "code",
   "execution_count": 51,
   "id": "d2afa606",
   "metadata": {},
   "outputs": [
    {
     "name": "stdout",
     "output_type": "stream",
     "text": [
      "I am a Kangaroo located at coordinates(0,0)\n"
     ]
    }
   ],
   "source": [
    "print(k)"
   ]
  },
  {
   "cell_type": "code",
   "execution_count": 52,
   "id": "d5c4dcf4",
   "metadata": {},
   "outputs": [],
   "source": [
    " k.put_in_pouch('doll')"
   ]
  },
  {
   "cell_type": "code",
   "execution_count": 53,
   "id": "c904cc16",
   "metadata": {},
   "outputs": [],
   "source": [
    " k.put_in_pouch('firetruck')"
   ]
  },
  {
   "cell_type": "code",
   "execution_count": 54,
   "id": "c4982cb5",
   "metadata": {},
   "outputs": [],
   "source": [
    " k.put_in_pouch('kitten')"
   ]
  },
  {
   "cell_type": "code",
   "execution_count": 55,
   "id": "6f1b1e69",
   "metadata": {},
   "outputs": [
    {
     "data": {
      "text/plain": [
       "['doll', 'firetruck', 'kitten']"
      ]
     },
     "execution_count": 55,
     "metadata": {},
     "output_type": "execute_result"
    }
   ],
   "source": [
    " k.pouch_contents()"
   ]
  },
  {
   "cell_type": "code",
   "execution_count": 56,
   "id": "658b8fa0",
   "metadata": {},
   "outputs": [
    {
     "name": "stdout",
     "output_type": "stream",
     "text": [
      "I am a Kangaroo located at coordinates(3,0)\n"
     ]
    }
   ],
   "source": [
    "k.jump(1,0)\n",
    "k.jump(1,0)\n",
    "k.jump(1,0)\n",
    "print(k)"
   ]
  },
  {
   "cell_type": "markdown",
   "id": "96292ce8",
   "metadata": {},
   "source": [
    "# Question 4\n",
    "## Write function collatz() that takes a positive integer x as input and prints the Collatz sequence starting at x. A Collatz sequence is obtained by repeatedly applying\n",
    "## this rule to the previous number x in the sequence:\n",
    "## x = {\n",
    "## 𝑥/2 𝑖𝑓 𝑥 𝑖𝑠 𝑒𝑣𝑒𝑛\n",
    "## 3𝑥 + 1 𝑖𝑓 𝑥 𝑖𝑠 𝑜𝑑𝑑\n",
    "## Your function should stop when the sequence gets to number 1. Your\n",
    "## implementation must be recursive, without any loops."
   ]
  },
  {
   "cell_type": "code",
   "execution_count": 34,
   "id": "f611a85b",
   "metadata": {},
   "outputs": [
    {
     "name": "stdout",
     "output_type": "stream",
     "text": [
      "1\n",
      "10\n",
      "5\n",
      "16\n",
      "8\n",
      "4\n",
      "2\n",
      "1\n"
     ]
    }
   ],
   "source": [
    "def collatz(n):\n",
    "    \n",
    "    if n== 1:\n",
    "        print(int(n))\n",
    "        \n",
    "    elif n%2 == 0:\n",
    "            print(int(n))\n",
    "            return collatz(n/2)\n",
    "            \n",
    "    else:\n",
    "            print(int(n))\n",
    "            collatz((3*n) + 1)\n",
    "            \n",
    "collatz(1)            \n",
    "collatz(10)"
   ]
  },
  {
   "cell_type": "markdown",
   "id": "e36ce1c1",
   "metadata": {},
   "source": [
    "# Question 5\n",
    "## Write a recursive method binary() that takes a non-negative integer n and prints the binary representation of integer n.\n",
    "\n",
    "## binary(0) = 0\n",
    "## binary(1) = 1\n",
    "## binary(3) = 11\n",
    "## binary(9) = 1001"
   ]
  },
  {
   "cell_type": "code",
   "execution_count": 32,
   "id": "f739fb25",
   "metadata": {},
   "outputs": [
    {
     "name": "stdout",
     "output_type": "stream",
     "text": [
      "1001"
     ]
    }
   ],
   "source": [
    "def binary(i):    \n",
    "    if i == 0:\n",
    "        return 0\n",
    "    else:\n",
    "        binary(i//2)\n",
    "    print(i % 2,end = '')\n",
    "\n",
    "\n",
    "binary(9)"
   ]
  },
  {
   "cell_type": "markdown",
   "id": "4ed2e22a",
   "metadata": {},
   "source": [
    "# Question 6\n",
    "## Implement a class named HeadingParser that can be used to parse an HTML document, and retrieve and print all the headings in the document. You should implement your class as a subclass of HTMLParser, defined in Standard Library module html.parser. When fed a string containing HTML code, your class should print the headings, one per line and in the order in which they appear in the document. Each heading should be indented as follows: an h1 heading should have indentation 0, and h2 heading should have indentation 1, etc. Test your implementation using w3c.html.\n",
    "\n",
    "## infile = open('w3c.html')\n",
    "## content = infile.read()\n",
    "## infile.close()\n",
    "## hp = HeadingParser()\n",
    "## hp.feed(content)\n",
    "## W3C Mission\n",
    "## Principles"
   ]
  },
  {
   "cell_type": "code",
   "execution_count": 29,
   "id": "150586a8",
   "metadata": {},
   "outputs": [
    {
     "name": "stdout",
     "output_type": "stream",
     "text": [
      "  W3C Mission \n",
      "  \n",
      "\t \n",
      "   Principles \n",
      "   \n",
      " \n",
      "\n",
      "\n",
      " \n"
     ]
    }
   ],
   "source": [
    "from html.parser import HTMLParser            \n",
    "\n",
    "f = open(r'w3c.html')     \n",
    "a=str(f.read())\n",
    "\n",
    "class HeadingParser(HTMLParser):         \n",
    "  \n",
    "    def __init__(self):                    \n",
    "        HTMLParser.__init__(self)\n",
    "        self.flag = 0 \n",
    "    \n",
    "    def handle_starttag(self, tag, attrs):                     \n",
    "        \n",
    "        if tag == 'h1' or tag == 'h2' or tag == 'h3' or tag == 'h4' or tag=='h5' or tag == 'h6' or tag == 'h7':\n",
    "            self.flag += 1                                     \n",
    "        else:\n",
    "            self.flag = 0\n",
    "            \n",
    "    def handle_data(self, data):            \n",
    "        if self.flag and data!='\\n':\n",
    "            \n",
    "            print('{} {} '.format(self.flag*' ', data))\n",
    "\n",
    "\n",
    "parser = HeadingParser()                            \n",
    "parser.feed(a)"
   ]
  },
  {
   "cell_type": "markdown",
   "id": "08393cf5",
   "metadata": {},
   "source": [
    "# Question 7\n",
    "## Implement recursive function webdir() that takes as input: a URL (as a string) and non-negative integers depth and indent. Your function should visit every webpage reachable from the starting URL web page in depth clicks or less, and print each web page's URL. As shown below, indentation, specified by indent, should be used to indicate the depth of a URL."
   ]
  },
  {
   "cell_type": "code",
   "execution_count": 72,
   "id": "56373c25",
   "metadata": {},
   "outputs": [
    {
     "name": "stdout",
     "output_type": "stream",
     "text": [
      "http://reed.cs.depaul.edu/lperkovic/one.html\n",
      "    http://reed.cs.depaul.edu/lperkovic/two.html\n",
      "        http://reed.cs.depaul.edu/lperkovic/four.html\n",
      "    http://reed.cs.depaul.edu/lperkovic/three.html\n",
      "        http://reed.cs.depaul.edu/lperkovic/four.html\n"
     ]
    }
   ],
   "source": [
    "from urllib.parse import urljoin\n",
    "from urllib.request import urlopen\n",
    "from html.parser import HTMLParser\n",
    "\n",
    "class Collector(HTMLParser): \n",
    "    def __init__(self, url): \n",
    "        HTMLParser.__init__(self)\n",
    "        self.url = url\n",
    "        self.links = []\n",
    "    def handle_starttag(self, tag, attrs):\n",
    "        if tag == 'a':\n",
    "            for attr in attrs:\n",
    "                if attr[0] == 'href':\n",
    "                    absolute = urljoin(self.url, attr[1])\n",
    "                    if absolute[:4] == 'http':\n",
    "                        self.links.append(absolute)            \n",
    "    def getLinks(self): \n",
    "        return self.links\n",
    "    \n",
    "def webdir(url, depth, indent):\n",
    "    \n",
    "    try:\n",
    "        depth_value = int(depth)\n",
    "        indent_value = int(indent) \n",
    "        if depth_value < 0 or indent_value < 0:      \n",
    "            raise ValueError    \n",
    "        resource = urlopen(url)\n",
    "        content = resource.read().decode()\n",
    "        collector = Collector(url)\n",
    "        collector.feed(content)\n",
    "        links = collector.getLinks()                \n",
    "\n",
    "        if indent_value == 0:\n",
    "            print('{}'.format(url))\n",
    "\n",
    "        indent_value += 4\n",
    "        depth_value = depth_value-1\n",
    "        \n",
    "        if depth_value >= 0:\n",
    "            for link in links:                          \n",
    "                print('{}{}'.format(indent_value*' ', link), end = '\\n')\n",
    "                if (depth_value) > 0: \n",
    "                    webdir(link, depth_value, indent_value)          \n",
    "                \n",
    "    except ValueError:\n",
    "        print(\"Either depth or indent value is invalid\")\n",
    "        \n",
    "webdir('http://reed.cs.depaul.edu/lperkovic/one.html', 2, 0)"
   ]
  },
  {
   "cell_type": "markdown",
   "id": "0567c1f4",
   "metadata": {},
   "source": [
    "# Question 8\n",
    "## Write SQL queries on the below database table that return:\n",
    "## a) All the temperature data.\n",
    "## b) All the cities, but without repetition.\n",
    "## c) All the records for India.\n",
    "## d) All the Fall records.\n",
    "## e) The city, country, and season for which the average rainfall is between 200 and 400 millimeters.\n",
    "## f) The city and country for which the average Fall temperature is above 20 degrees, in increasing temperature order.\n",
    "## g) The total annual rainfall for Cairo.\n",
    "## h) The total rainfall for each season"
   ]
  },
  {
   "cell_type": "code",
   "execution_count": 6,
   "id": "5b3fa233",
   "metadata": {},
   "outputs": [
    {
     "data": {
      "text/plain": [
       "<sqlite3.Cursor at 0x1d6b415fe30>"
      ]
     },
     "execution_count": 6,
     "metadata": {},
     "output_type": "execute_result"
    }
   ],
   "source": [
    "import sqlite3\n",
    "con = sqlite3.connect('DBfile.db')\n",
    "cur = con.cursor()\n",
    "cur.execute(\"CREATE TABLE MyTable  (City text, Country text, Season text,Temperature float,Rainfall float)\")\n",
    "cur.execute(\"INSERT INTO MyTable VALUES ('Mumbai', 'India', 'Winter',24.8,5.9)\")\n",
    "cur.execute(\"INSERT INTO MyTable VALUES ('Mumbai', 'India', 'Spring',28.4,16.2)\")\n",
    "cur.execute(\"INSERT INTO MyTable VALUES ('Mumbai', 'India', 'Summer',27.9,1549.4 )\")\n",
    "cur.execute(\"INSERT INTO MyTable VALUES ('Mumbai', 'India', 'Fall',27.6,346.0)\")\n",
    "cur.execute(\"INSERT INTO MyTable VALUES ('London', 'United Kingdom', 'Winter',4.2,207.7 )\")\n",
    "cur.execute(\"INSERT INTO MyTable VALUES ('London', 'United Kingdom', 'Spring',8.3,169.6)\")\n",
    "cur.execute(\"INSERT INTO MyTable VALUES ('London', 'United Kingdom', 'Summer',15.7,157.0)\")\n",
    "cur.execute(\"INSERT INTO MyTable VALUES ('London', 'United Kingdom', 'Fall',10.4,218.5)\")\n",
    "cur.execute(\"INSERT INTO MyTable VALUES ('Cairo', 'Egypt', 'Winter',13.6,16.5)\")\n",
    "cur.execute(\"INSERT INTO MyTable VALUES ('Cairo', 'Egypt', 'Spring',20.7,6.5)\")\n",
    "cur.execute(\"INSERT INTO MyTable VALUES ('Cairo', 'Egypt', 'Summer',27.7,0.1)\")\n",
    "cur.execute(\"INSERT INTO MyTable VALUES ('Cairo', 'Egypt', 'Fall',22.2,4.5)\")"
   ]
  },
  {
   "cell_type": "code",
   "execution_count": 7,
   "id": "e5fb9df5",
   "metadata": {},
   "outputs": [
    {
     "data": {
      "text/plain": [
       "[('Mumbai', 'India', 'Winter', 24.8, 5.9),\n",
       " ('Mumbai', 'India', 'Spring', 28.4, 16.2),\n",
       " ('Mumbai', 'India', 'Summer', 27.9, 1549.4),\n",
       " ('Mumbai', 'India', 'Fall', 27.6, 346.0),\n",
       " ('London', 'United Kingdom', 'Winter', 4.2, 207.7),\n",
       " ('London', 'United Kingdom', 'Spring', 8.3, 169.6),\n",
       " ('London', 'United Kingdom', 'Summer', 15.7, 157.0),\n",
       " ('London', 'United Kingdom', 'Fall', 10.4, 218.5),\n",
       " ('Cairo', 'Egypt', 'Winter', 13.6, 16.5),\n",
       " ('Cairo', 'Egypt', 'Spring', 20.7, 6.5),\n",
       " ('Cairo', 'Egypt', 'Summer', 27.7, 0.1),\n",
       " ('Cairo', 'Egypt', 'Fall', 22.2, 4.5)]"
      ]
     },
     "execution_count": 7,
     "metadata": {},
     "output_type": "execute_result"
    }
   ],
   "source": [
    "cur.execute('SELECT * FROM MyTable')\n",
    "cur.fetchall()"
   ]
  },
  {
   "cell_type": "code",
   "execution_count": 31,
   "id": "195e26a1",
   "metadata": {},
   "outputs": [
    {
     "data": {
      "text/plain": [
       "[(24.8,),\n",
       " (28.4,),\n",
       " (27.9,),\n",
       " (27.6,),\n",
       " (4.2,),\n",
       " (8.3,),\n",
       " (15.7,),\n",
       " (10.4,),\n",
       " (13.6,),\n",
       " (20.7,),\n",
       " (27.7,),\n",
       " (22.2,)]"
      ]
     },
     "execution_count": 31,
     "metadata": {},
     "output_type": "execute_result"
    }
   ],
   "source": [
    "cur.execute('SELECT temperature FROM MyTable')\n",
    "cur.fetchall()"
   ]
  },
  {
   "cell_type": "code",
   "execution_count": 8,
   "id": "058879ff",
   "metadata": {},
   "outputs": [
    {
     "data": {
      "text/plain": [
       "[('Mumbai',), ('London',), ('Cairo',)]"
      ]
     },
     "execution_count": 8,
     "metadata": {},
     "output_type": "execute_result"
    }
   ],
   "source": [
    "cur.execute('SELECT DISTINCT City FROM MyTable')\n",
    "cur.fetchall()"
   ]
  },
  {
   "cell_type": "code",
   "execution_count": 9,
   "id": "ca19bf3f",
   "metadata": {},
   "outputs": [
    {
     "data": {
      "text/plain": [
       "[('Mumbai', 'India', 'Winter', 24.8, 5.9),\n",
       " ('Mumbai', 'India', 'Spring', 28.4, 16.2),\n",
       " ('Mumbai', 'India', 'Summer', 27.9, 1549.4),\n",
       " ('Mumbai', 'India', 'Fall', 27.6, 346.0)]"
      ]
     },
     "execution_count": 9,
     "metadata": {},
     "output_type": "execute_result"
    }
   ],
   "source": [
    "cur.execute(\"SELECT * FROM MyTable WHERE Country='India'\")\n",
    "cur.fetchall()"
   ]
  },
  {
   "cell_type": "code",
   "execution_count": 10,
   "id": "7ffdff46",
   "metadata": {},
   "outputs": [
    {
     "data": {
      "text/plain": [
       "[('Mumbai', 'India', 'Fall', 27.6, 346.0),\n",
       " ('London', 'United Kingdom', 'Fall', 10.4, 218.5),\n",
       " ('Cairo', 'Egypt', 'Fall', 22.2, 4.5)]"
      ]
     },
     "execution_count": 10,
     "metadata": {},
     "output_type": "execute_result"
    }
   ],
   "source": [
    "cur.execute(\"SELECT * FROM MyTable WHERE Season='Fall'\")\n",
    "cur.fetchall()"
   ]
  },
  {
   "cell_type": "code",
   "execution_count": 11,
   "id": "6b5ddb00",
   "metadata": {},
   "outputs": [
    {
     "data": {
      "text/plain": [
       "[('Mumbai', 'India', 'Fall'),\n",
       " ('London', 'United Kingdom', 'Winter'),\n",
       " ('London', 'United Kingdom', 'Fall')]"
      ]
     },
     "execution_count": 11,
     "metadata": {},
     "output_type": "execute_result"
    }
   ],
   "source": [
    "cur.execute(\"SELECT City,country,Season FROM MyTable WHERE Rainfall BETWEEN 200 AND 400\")\n",
    "cur.fetchall()"
   ]
  },
  {
   "cell_type": "code",
   "execution_count": 12,
   "id": "338ab29d",
   "metadata": {},
   "outputs": [
    {
     "data": {
      "text/plain": [
       "[('Cairo', 'Egypt'), ('Mumbai', 'India')]"
      ]
     },
     "execution_count": 12,
     "metadata": {},
     "output_type": "execute_result"
    }
   ],
   "source": [
    "cur.execute(\"SELECT City,country FROM MyTable WHERE Season='Fall' AND temperature > 20 ORDER BY temperature ASC\")\n",
    "cur.fetchall()"
   ]
  },
  {
   "cell_type": "code",
   "execution_count": 13,
   "id": "eca0bacd",
   "metadata": {},
   "outputs": [
    {
     "data": {
      "text/plain": [
       "[(27.6,)]"
      ]
     },
     "execution_count": 13,
     "metadata": {},
     "output_type": "execute_result"
    }
   ],
   "source": [
    "cur.execute(\"SELECT SUM(Rainfall) FROM MyTable WHERE City='Cairo'\")\n",
    "cur.fetchall()"
   ]
  },
  {
   "cell_type": "code",
   "execution_count": 14,
   "id": "5b6b5023",
   "metadata": {},
   "outputs": [
    {
     "data": {
      "text/plain": [
       "[(569.0,), (192.29999999999998,), (1706.5,), (230.1,)]"
      ]
     },
     "execution_count": 14,
     "metadata": {},
     "output_type": "execute_result"
    }
   ],
   "source": [
    "cur.execute(\"SELECT SUM(Rainfall) FROM MyTable GROUP BY Season\")\n",
    "cur.fetchall()"
   ]
  },
  {
   "cell_type": "markdown",
   "id": "d9256e13",
   "metadata": {},
   "source": [
    "# Question 9\n",
    "## Suppose list words is defined as follows:\n",
    "## >>> words = ['The', 'quick', 'brown', 'fox', 'jumps', 'over', 'the', 'lazy', 'dog']\n",
    "## Write list comprehension expressions that use list words and generate the following lists:\n",
    "## a) ['THE', 'QUICK', 'BROWN', 'FOX', 'JUMPS', 'OVER', 'THE','LAZY', 'DOG']\n",
    "## b) ['the', 'quick', 'brown', 'fox', 'jumps', 'over', 'the','lazy', 'dog']\n",
    "## c) [3, 5, 5, 3, 5, 4, 3, 4, 3] (the list of lengths of words in list words).\n",
    "## d) [['THE', 'the', 3], ['QUICK', 'quick', 5], ['BROWN','brown', 5], ['FOX', 'fox', 3], ['JUMPS', 'jumps', 5],['OVER', 'over', 4], ['THE', 'the', 3], ['LAZY', 'lazy',4], ['DOG', 'dog', 3]] (the list containing a list for every word of list words, where each list contains the word in uppercase and lowercase and the length of the word.)\n",
    "## e) ['The', 'quick', 'brown', 'fox', 'jumps', 'over', 'the', 'lazy', 'dog'] (the list of words in list words containing 4 or more characters.)"
   ]
  },
  {
   "cell_type": "code",
   "execution_count": 5,
   "id": "41b2483e",
   "metadata": {},
   "outputs": [
    {
     "name": "stdout",
     "output_type": "stream",
     "text": [
      "Question A\n",
      "['THE', 'QUICK', 'BROWN', 'FOX', 'JUMPS', 'OVER', 'THE', 'LAZY', 'DOG']\n",
      "Question B\n",
      "['the', 'quick', 'brown', 'fox', 'jumps', 'over', 'the', 'lazy', 'dog']\n",
      "Question C\n",
      "[3, 5, 5, 3, 5, 4, 3, 4, 3]\n",
      "Question D\n",
      "[['THE', 'the', 3], ['QUICK', 'quick', 5], ['BROWN', 'brown', 5], ['FOX', 'fox', 3], ['JUMPS', 'jumps', 5], ['OVER', 'over', 4], ['THE', 'the', 3], ['LAZY', 'lazy', 4], ['DOG', 'dog', 3]]\n",
      "Question E\n",
      "['quick', 'brown', 'jumps', 'over', 'lazy']\n"
     ]
    }
   ],
   "source": [
    "list = ['The', 'quick', 'brown', 'fox', 'jumps', 'over', 'the', 'lazy', 'dog']\n",
    "\n",
    "print(\"Question A\") \n",
    "\n",
    "Upperlist = [word.upper() for word in list]\n",
    "print(Upperlist)\n",
    "\n",
    "print(\"Question B\") \n",
    "\n",
    "Lowerlist = [word.lower() for word in list]\n",
    "print(Lowerlist)\n",
    "\n",
    "print(\"Question C\") \n",
    "\n",
    "Lengthlist = [ len(word) for word in list]\n",
    "print(Lengthlist)\n",
    "\n",
    "print(\"Question D\") \n",
    "\n",
    "List = [ [word.upper(), word.lower(), len(word)] for word in list]\n",
    "print(List)\n",
    "\n",
    "print(\"Question E\") \n",
    "\n",
    "List4Words = [word for word in list if len(word)>= 4]\n",
    "print(List4Words)"
   ]
  }
 ],
 "metadata": {
  "kernelspec": {
   "display_name": "Python 3 (ipykernel)",
   "language": "python",
   "name": "python3"
  },
  "language_info": {
   "codemirror_mode": {
    "name": "ipython",
    "version": 3
   },
   "file_extension": ".py",
   "mimetype": "text/x-python",
   "name": "python",
   "nbconvert_exporter": "python",
   "pygments_lexer": "ipython3",
   "version": "3.9.12"
  }
 },
 "nbformat": 4,
 "nbformat_minor": 5
}
